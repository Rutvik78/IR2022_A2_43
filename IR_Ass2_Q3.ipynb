{
  "nbformat": 4,
  "nbformat_minor": 0,
  "metadata": {
    "colab": {
      "name": "IR_Ass2_Q3.ipynb",
      "provenance": [],
      "collapsed_sections": []
    },
    "kernelspec": {
      "name": "python3",
      "display_name": "Python 3"
    },
    "language_info": {
      "name": "python"
    }
  },
  "cells": [
    {
      "cell_type": "code",
      "execution_count": 1,
      "metadata": {
        "colab": {
          "base_uri": "https://localhost:8080/"
        },
        "id": "ph6C2pRAxF3Z",
        "outputId": "0ca17656-bd5e-4518-8092-949ed066d5bb"
      },
      "outputs": [
        {
          "output_type": "stream",
          "name": "stdout",
          "text": [
            "[nltk_data] Downloading package stopwords to /root/nltk_data...\n",
            "[nltk_data]   Unzipping corpora/stopwords.zip.\n",
            "[nltk_data] Downloading package wordnet to /root/nltk_data...\n",
            "[nltk_data]   Unzipping corpora/wordnet.zip.\n",
            "[nltk_data] Downloading package punkt to /root/nltk_data...\n",
            "[nltk_data]   Unzipping tokenizers/punkt.zip.\n"
          ]
        }
      ],
      "source": [
        "import pandas as pd\n",
        "import numpy as np\n",
        "import nltk\n",
        "nltk.download('stopwords')\n",
        "from glob import glob\n",
        "import random\n",
        "import re\n",
        "import pickle\n",
        "from nltk import word_tokenize\n",
        "from nltk.corpus import stopwords\n",
        "from nltk.stem import PorterStemmer,WordNetLemmatizer\n",
        "nltk.download('wordnet')\n",
        "from nltk.tokenize import word_tokenize\n",
        "nltk.download('punkt')\n",
        "from nltk.corpus.reader.pl196x import TYPE\n",
        "from sklearn.utils import shuffle\n",
        "import math"
      ]
    },
    {
      "cell_type": "code",
      "source": [
        "from google.colab import drive\n",
        "drive.mount(\"/content/drive\")"
      ],
      "metadata": {
        "colab": {
          "base_uri": "https://localhost:8080/"
        },
        "id": "MlsUoXM5xoTd",
        "outputId": "a86299ec-f396-406c-aaad-70f4d6d9fd19"
      },
      "execution_count": 2,
      "outputs": [
        {
          "output_type": "stream",
          "name": "stdout",
          "text": [
            "Mounted at /content/drive\n"
          ]
        }
      ]
    },
    {
      "cell_type": "code",
      "source": [
        "#!unzip \"/content/drive/MyDrive/IR/20_newsgroups.zip\" -d \"/content/drive/MyDrive/IR/20_newsgroups\""
      ],
      "metadata": {
        "id": "VgU1neRRx-oD"
      },
      "execution_count": null,
      "outputs": []
    },
    {
      "cell_type": "code",
      "source": [
        "pathsc1 = glob(\"/content/drive/MyDrive/IR/20_newsgroups/20_newsgroups/comp.graphics/*\")\n",
        "pathsc2 = glob(\"/content/drive/MyDrive/IR/20_newsgroups/20_newsgroups/sci.med/*\")\n",
        "pathsc3 = glob(\"/content/drive/MyDrive/IR/20_newsgroups/20_newsgroups/talk.politics.misc/*\")\n",
        "pathsc4 = glob(\"/content/drive/MyDrive/IR/20_newsgroups/20_newsgroups/rec.sport.hockey/*\")\n",
        "pathsc5 = glob(\"/content/drive/MyDrive/IR/20_newsgroups/20_newsgroups/sci.space/*\")"
      ],
      "metadata": {
        "id": "SuOShPqS0w8s"
      },
      "execution_count": 3,
      "outputs": []
    },
    {
      "cell_type": "code",
      "source": [
        "def preprocessing(s):\n",
        "  re.sub(r'''(?i)\\b((?:https?://|www\\d{0,3}[.]|[a-z0-9.\\-]+[.][a-z]{2,4}/)(?:[^\\s()<>]+|\\(([^\\s()<>]+|(\\([^\\s()<>]+\\)))*\\))+(?:\\(([^\\s()<>]+|(\\([^\\s()<>]+\\)))*\\)|[^\\s`!()\\[\\]{};:'\".,<>?«»“”‘’]))''', \" \", s)\n",
        "  tokenizer = nltk.RegexpTokenizer(r\"\\w+\")   # Tokenizer\n",
        "  s = tokenizer.tokenize(s)\n",
        "  s = [w.lower() for w in s]\n",
        "  sw = set(stopwords.words('english'))   #remove stop words from strings\n",
        "  res = [w for w in s if (not w in sw and len(w)>2 and bool(re.search(r'\\d', w))==False)]\n",
        "  res = [w.replace(\"_\",\"\") for w in res]\n",
        "  return list(np.unique(res))\n"
      ],
      "metadata": {
        "id": "L6JYaWyL7s1O"
      },
      "execution_count": 4,
      "outputs": []
    },
    {
      "cell_type": "code",
      "source": [
        "def readFile(path,c):\n",
        "  documents = {}\n",
        "  i=1\n",
        "  for p in path:\n",
        "    with open(p,'rb') as f:\n",
        "      l1 = []\n",
        "      for l in f.readlines():\n",
        "        try:\n",
        "          l1.append(l[:-1].decode(\"utf-8\"))\n",
        "            \n",
        "        except:\n",
        "            continue\n",
        "    \n",
        "    s=\" \"\n",
        "    for w in l1:\n",
        "      if '.' not in w[:-1]:\n",
        "        s += \" \"+ w\n",
        "    tokens = preprocessing(s)\n",
        "    documents[\"d\"+str(i)+\"_\"+c] = tokens\n",
        "    i+=1\n",
        "  return documents"
      ],
      "metadata": {
        "id": "n6rU5HX758oY"
      },
      "execution_count": 5,
      "outputs": []
    },
    {
      "cell_type": "code",
      "source": [
        "classes = {}\n",
        "classes[\"c1\"] = readFile(pathsc1,\"c1\")\n",
        "classes[\"c2\"] = readFile(pathsc2,\"c2\")\n",
        "classes[\"c3\"] = readFile(pathsc3,\"c3\")\n",
        "classes[\"c4\"] = readFile(pathsc4,\"c4\")\n",
        "classes[\"c5\"] = readFile(pathsc5,\"c5\")"
      ],
      "metadata": {
        "id": "lfEXrYM46fPC"
      },
      "execution_count": null,
      "outputs": []
    },
    {
      "cell_type": "code",
      "source": [
        "#data = pd.DataFrame(columns={'DOc','Tokens','Class'})"
      ],
      "metadata": {
        "id": "pO8-3hU1RCtM"
      },
      "execution_count": null,
      "outputs": []
    },
    {
      "cell_type": "code",
      "source": [
        "# def termInClass(c):\n",
        "#   terms = []\n",
        "#   for l in classes[c].values():\n",
        "#     terms += l\n",
        "#   return list(np.unique(terms)),terms"
      ],
      "metadata": {
        "id": "s1TFm7CrVSiK"
      },
      "execution_count": 125,
      "outputs": []
    },
    {
      "cell_type": "code",
      "source": [
        "# uniquetermc1,termc1 = termInClass(\"c1\")\n",
        "# uniquetermc2,termc2 = termInClass(\"c2\")\n",
        "# uniquetermc3,termc3 = termInClass(\"c3\")\n",
        "# uniquetermc4,termc4 = termInClass(\"c4\")\n",
        "# uniquetermc5,termc5 = termInClass(\"c5\")"
      ],
      "metadata": {
        "id": "4nfQm4BAXaLh"
      },
      "execution_count": 127,
      "outputs": []
    },
    {
      "cell_type": "code",
      "source": [
        "# uniqueterms = []\n",
        "# terms = []\n",
        "# uniqueterms.append(uniquetermc1[11:])\n",
        "# uniqueterms.append(uniquetermc2[3:])\n",
        "# uniqueterms.append(uniquetermc3[7:])\n",
        "# uniqueterms.append(uniquetermc4[4:])\n",
        "# uniqueterms.append(uniquetermc5[11:])\n",
        "\n",
        "# terms.append(termc1)\n",
        "# terms.append(termc2)\n",
        "# terms.append(termc3)\n",
        "# terms.append(termc4)\n",
        "# terms.append(termc5)"
      ],
      "metadata": {
        "id": "hdcMpuiE089Q"
      },
      "execution_count": 128,
      "outputs": []
    },
    {
      "cell_type": "code",
      "source": [
        "# print(uniquetermc1)\n",
        "# print(uniquetermc2)\n",
        "# print(uniquetermc3)\n",
        "# print(uniquetermc4) \n",
        "# print(uniquetermc5)"
      ],
      "metadata": {
        "id": "rAKFJengXuzY"
      },
      "execution_count": null,
      "outputs": []
    },
    {
      "cell_type": "code",
      "source": [
        "# data = pd.DataFrame(columns=['Doc','Tokens','Class'])"
      ],
      "metadata": {
        "id": "NF7D9sqFbmw8"
      },
      "execution_count": 96,
      "outputs": []
    },
    {
      "cell_type": "code",
      "source": [
        "# doc = []\n",
        "# tokens = []\n",
        "# cl = []\n",
        "# for c in classes.keys():\n",
        "#   doc += classes[c].keys()\n",
        "#   tokens += classes[c].values()\n",
        "#   cl += [c]*len(classes[c].keys())"
      ],
      "metadata": {
        "id": "cgGWuyCxby8t"
      },
      "execution_count": 92,
      "outputs": []
    },
    {
      "cell_type": "code",
      "source": [
        "# data.Doc = doc\n",
        "# data.Tokens = tokens\n",
        "# data.Class = cl"
      ],
      "metadata": {
        "id": "YlhbxUdodwjX"
      },
      "execution_count": 97,
      "outputs": []
    },
    {
      "cell_type": "code",
      "source": [
        "#pickle.dump(data,open(\"/content/drive/MyDrive/IR/dataA2Q3\",'wb'))"
      ],
      "metadata": {
        "id": "Rk6CDttlelWJ"
      },
      "execution_count": 99,
      "outputs": []
    },
    {
      "cell_type": "code",
      "source": [
        "data = pickle.load(open(\"/content/drive/MyDrive/IR/dataA2Q3\",'rb'))"
      ],
      "metadata": {
        "id": "1HjJkbxdfeHK"
      },
      "execution_count": null,
      "outputs": []
    },
    {
      "cell_type": "code",
      "source": [
        "# data = shuffle(data).reset_index(drop=True)"
      ],
      "metadata": {
        "id": "6JLuPuSMFGV4"
      },
      "execution_count": 140,
      "outputs": []
    },
    {
      "cell_type": "code",
      "source": [
        "# traindata = data.loc[:3996]\n",
        "# testdata = data.loc[3996:]"
      ],
      "metadata": {
        "id": "yC95qtUOGT9S"
      },
      "execution_count": 144,
      "outputs": []
    },
    {
      "cell_type": "code",
      "source": [
        "def splitData(frac):\n",
        "  data = pickle.load(open(\"/content/drive/MyDrive/IR/dataA2Q3\",'rb'))\n",
        "  length = math.floor(len(data)*frac)\n",
        "  data = shuffle(data).reset_index(drop=True)\n",
        "  traindata = data.loc[:length]\n",
        "  testdata = data.loc[length:]\n",
        "  return traindata, testdata"
      ],
      "metadata": {
        "id": "VNJMExLHVziY"
      },
      "execution_count": null,
      "outputs": []
    },
    {
      "cell_type": "code",
      "source": [
        "traindata,testdata = splitData(0.8)"
      ],
      "metadata": {
        "id": "B4gt3Xbgngkl"
      },
      "execution_count": null,
      "outputs": []
    },
    {
      "cell_type": "code",
      "source": [
        "def classTerms(c,frac):\n",
        "  tc = []\n",
        "  #traindata,testdata = splitData(frac)\n",
        "  for l in traindata[traindata['Class']== c].Tokens:\n",
        "    tc += l\n",
        "  return tc"
      ],
      "metadata": {
        "id": "bGP-JaxZG_xx"
      },
      "execution_count": null,
      "outputs": []
    },
    {
      "cell_type": "code",
      "source": [
        "tc1 = classTerms(\"c1\",0.8)\n",
        "tc2 = classTerms(\"c2\",0.8)\n",
        "tc3 = classTerms(\"c3\",0.8)\n",
        "tc4 = classTerms(\"c4\",0.8)\n",
        "tc5 = classTerms(\"c5\",0.8)"
      ],
      "metadata": {
        "id": "-fNiKMM-IdPJ"
      },
      "execution_count": null,
      "outputs": []
    },
    {
      "cell_type": "code",
      "source": [
        "tc = [tc1,tc2,tc3,tc4,tc5]"
      ],
      "metadata": {
        "id": "IA5w0T-8JxEP"
      },
      "execution_count": null,
      "outputs": []
    },
    {
      "cell_type": "code",
      "source": [
        "utc1 = list(np.unique(tc1))\n",
        "utc2 = list(np.unique(tc2))\n",
        "utc3 = list(np.unique(tc3))\n",
        "utc4 = list(np.unique(tc4))\n",
        "utc5 = list(np.unique(tc5))"
      ],
      "metadata": {
        "id": "HB0ckpPLIyDt"
      },
      "execution_count": null,
      "outputs": []
    },
    {
      "cell_type": "code",
      "source": [
        "ut = [utc1,utc2,utc3,utc4,utc5]"
      ],
      "metadata": {
        "id": "DhyAjd3UJaMC"
      },
      "execution_count": null,
      "outputs": []
    },
    {
      "cell_type": "code",
      "source": [
        "# def tfIcf(i,c):\n",
        "#   tf_icf = []\n",
        "#   icf = []\n",
        "#   termfreq = []\n",
        "#   for w in terms[i-1]:\n",
        "#     tf = 0\n",
        "#     cl = 0\n",
        "#     for l in list(classes[c].values()):\n",
        "#       tf += l.count(w)\n",
        "\n",
        "#     termfreq.append(tf)\n",
        "#     for l in terms:\n",
        "#       if w in l:\n",
        "#         cl += 1\n",
        "#     inversfreq = np.log10(cl/tf)\n",
        "#     icf.append(inversfreq)\n",
        "#     tf_icf.append(tf*inversfreq)\n",
        "#   return tf_icf,termfreq,icf"
      ],
      "metadata": {
        "id": "RHI9HWQOjyil"
      },
      "execution_count": 122,
      "outputs": []
    },
    {
      "cell_type": "code",
      "source": [
        "# tficfc1,tfc1,icfc1 = tfIcf(1,\"c1\")\n",
        "# tficfc2,tfc2,icfc2 = tfIcf(2,\"c2\")\n",
        "# tficfc3,tfc3,icfc3 = tfIcf(3,\"c3\")\n",
        "# tficfc4,tfc4,icfc4 = tfIcf(4,\"c4\")\n",
        "# tficfc5,tfc5,icfc5 = tfIcf(5,\"c5\")"
      ],
      "metadata": {
        "id": "a6Q3QL-d3ETA"
      },
      "execution_count": 123,
      "outputs": []
    },
    {
      "cell_type": "code",
      "source": [
        "def trainTfIcf(i,c,frac):\n",
        "  tf_icf = []\n",
        "  icf = []\n",
        "  termfreq = []\n",
        "  #traindata,testdata = splitData(frac)\n",
        "  for w in ut[i-1]:\n",
        "    tf = 0\n",
        "    cl = 0\n",
        "    for l in traindata[traindata['Class']== c].Tokens:\n",
        "      tf += l.count(w)\n",
        "\n",
        "    termfreq.append(tf)\n",
        "    for l in ut:\n",
        "      if w in l:\n",
        "        cl += 1\n",
        "    inversfreq = np.log10(cl/tf)\n",
        "    icf.append(inversfreq)\n",
        "    tf_icf.append(tf*inversfreq)\n",
        "  return tf_icf,termfreq,icf"
      ],
      "metadata": {
        "id": "4V3vQk3P-9wL"
      },
      "execution_count": null,
      "outputs": []
    },
    {
      "cell_type": "code",
      "source": [
        "tficfc1,tfc1,icfc1 = trainTfIcf(1,\"c1\",0.8)\n",
        "tficfc2,tfc2,icfc2 = trainTfIcf(2,\"c2\",0.8)\n",
        "tficfc3,tfc3,icfc3 = trainTfIcf(3,\"c3\",0.8)\n",
        "tficfc4,tfc4,icfc4 = trainTfIcf(4,\"c4\",.08)\n",
        "tficfc5,tfc5,icfc5 = trainTfIcf(5,\"c5\",0.8)"
      ],
      "metadata": {
        "id": "91AsVyGkOy_3"
      },
      "execution_count": null,
      "outputs": []
    },
    {
      "cell_type": "code",
      "source": [
        "# dfc1 = pd.DataFrame(columns=['Token','TF_ICF'])"
      ],
      "metadata": {
        "id": "TAqTfJJQRRQ6"
      },
      "execution_count": 170,
      "outputs": []
    },
    {
      "cell_type": "code",
      "source": [
        "# dfc1.Token = utc1\n",
        "# dfc1.TF_ICF = tficfc1 "
      ],
      "metadata": {
        "id": "-54f1JCBRo16"
      },
      "execution_count": 171,
      "outputs": []
    },
    {
      "cell_type": "code",
      "source": [
        "#dfc1.head()"
      ],
      "metadata": {
        "id": "YiLlpwUrR4Kb"
      },
      "execution_count": null,
      "outputs": []
    },
    {
      "cell_type": "code",
      "source": [
        "#dfc1 = dfc1.sort_values('TF_ICF',ascending=False).reset_index(drop=True)"
      ],
      "metadata": {
        "id": "ThR3oOFNR7Td"
      },
      "execution_count": 173,
      "outputs": []
    },
    {
      "cell_type": "code",
      "source": [
        "##dfc1.head()"
      ],
      "metadata": {
        "colab": {
          "base_uri": "https://localhost:8080/",
          "height": 206
        },
        "id": "JfHHp4JPSlJ-",
        "outputId": "21c71e4c-b587-4211-aa28-996c4d9a1cb6"
      },
      "execution_count": 174,
      "outputs": [
        {
          "output_type": "execute_result",
          "data": {
            "text/plain": [
              "       Token   TF_ICF\n",
              "0     island  0.79588\n",
              "1      ahead  0.79588\n",
              "2    alabama  0.79588\n",
              "3  temporary  0.79588\n",
              "4       kids  0.79588"
            ],
            "text/html": [
              "\n",
              "  <div id=\"df-5672da65-89d9-4596-ba4d-d388fc86cc55\">\n",
              "    <div class=\"colab-df-container\">\n",
              "      <div>\n",
              "<style scoped>\n",
              "    .dataframe tbody tr th:only-of-type {\n",
              "        vertical-align: middle;\n",
              "    }\n",
              "\n",
              "    .dataframe tbody tr th {\n",
              "        vertical-align: top;\n",
              "    }\n",
              "\n",
              "    .dataframe thead th {\n",
              "        text-align: right;\n",
              "    }\n",
              "</style>\n",
              "<table border=\"1\" class=\"dataframe\">\n",
              "  <thead>\n",
              "    <tr style=\"text-align: right;\">\n",
              "      <th></th>\n",
              "      <th>Token</th>\n",
              "      <th>TF_ICF</th>\n",
              "    </tr>\n",
              "  </thead>\n",
              "  <tbody>\n",
              "    <tr>\n",
              "      <th>0</th>\n",
              "      <td>island</td>\n",
              "      <td>0.79588</td>\n",
              "    </tr>\n",
              "    <tr>\n",
              "      <th>1</th>\n",
              "      <td>ahead</td>\n",
              "      <td>0.79588</td>\n",
              "    </tr>\n",
              "    <tr>\n",
              "      <th>2</th>\n",
              "      <td>alabama</td>\n",
              "      <td>0.79588</td>\n",
              "    </tr>\n",
              "    <tr>\n",
              "      <th>3</th>\n",
              "      <td>temporary</td>\n",
              "      <td>0.79588</td>\n",
              "    </tr>\n",
              "    <tr>\n",
              "      <th>4</th>\n",
              "      <td>kids</td>\n",
              "      <td>0.79588</td>\n",
              "    </tr>\n",
              "  </tbody>\n",
              "</table>\n",
              "</div>\n",
              "      <button class=\"colab-df-convert\" onclick=\"convertToInteractive('df-5672da65-89d9-4596-ba4d-d388fc86cc55')\"\n",
              "              title=\"Convert this dataframe to an interactive table.\"\n",
              "              style=\"display:none;\">\n",
              "        \n",
              "  <svg xmlns=\"http://www.w3.org/2000/svg\" height=\"24px\"viewBox=\"0 0 24 24\"\n",
              "       width=\"24px\">\n",
              "    <path d=\"M0 0h24v24H0V0z\" fill=\"none\"/>\n",
              "    <path d=\"M18.56 5.44l.94 2.06.94-2.06 2.06-.94-2.06-.94-.94-2.06-.94 2.06-2.06.94zm-11 1L8.5 8.5l.94-2.06 2.06-.94-2.06-.94L8.5 2.5l-.94 2.06-2.06.94zm10 10l.94 2.06.94-2.06 2.06-.94-2.06-.94-.94-2.06-.94 2.06-2.06.94z\"/><path d=\"M17.41 7.96l-1.37-1.37c-.4-.4-.92-.59-1.43-.59-.52 0-1.04.2-1.43.59L10.3 9.45l-7.72 7.72c-.78.78-.78 2.05 0 2.83L4 21.41c.39.39.9.59 1.41.59.51 0 1.02-.2 1.41-.59l7.78-7.78 2.81-2.81c.8-.78.8-2.07 0-2.86zM5.41 20L4 18.59l7.72-7.72 1.47 1.35L5.41 20z\"/>\n",
              "  </svg>\n",
              "      </button>\n",
              "      \n",
              "  <style>\n",
              "    .colab-df-container {\n",
              "      display:flex;\n",
              "      flex-wrap:wrap;\n",
              "      gap: 12px;\n",
              "    }\n",
              "\n",
              "    .colab-df-convert {\n",
              "      background-color: #E8F0FE;\n",
              "      border: none;\n",
              "      border-radius: 50%;\n",
              "      cursor: pointer;\n",
              "      display: none;\n",
              "      fill: #1967D2;\n",
              "      height: 32px;\n",
              "      padding: 0 0 0 0;\n",
              "      width: 32px;\n",
              "    }\n",
              "\n",
              "    .colab-df-convert:hover {\n",
              "      background-color: #E2EBFA;\n",
              "      box-shadow: 0px 1px 2px rgba(60, 64, 67, 0.3), 0px 1px 3px 1px rgba(60, 64, 67, 0.15);\n",
              "      fill: #174EA6;\n",
              "    }\n",
              "\n",
              "    [theme=dark] .colab-df-convert {\n",
              "      background-color: #3B4455;\n",
              "      fill: #D2E3FC;\n",
              "    }\n",
              "\n",
              "    [theme=dark] .colab-df-convert:hover {\n",
              "      background-color: #434B5C;\n",
              "      box-shadow: 0px 1px 3px 1px rgba(0, 0, 0, 0.15);\n",
              "      filter: drop-shadow(0px 1px 2px rgba(0, 0, 0, 0.3));\n",
              "      fill: #FFFFFF;\n",
              "    }\n",
              "  </style>\n",
              "\n",
              "      <script>\n",
              "        const buttonEl =\n",
              "          document.querySelector('#df-5672da65-89d9-4596-ba4d-d388fc86cc55 button.colab-df-convert');\n",
              "        buttonEl.style.display =\n",
              "          google.colab.kernel.accessAllowed ? 'block' : 'none';\n",
              "\n",
              "        async function convertToInteractive(key) {\n",
              "          const element = document.querySelector('#df-5672da65-89d9-4596-ba4d-d388fc86cc55');\n",
              "          const dataTable =\n",
              "            await google.colab.kernel.invokeFunction('convertToInteractive',\n",
              "                                                     [key], {});\n",
              "          if (!dataTable) return;\n",
              "\n",
              "          const docLinkHtml = 'Like what you see? Visit the ' +\n",
              "            '<a target=\"_blank\" href=https://colab.research.google.com/notebooks/data_table.ipynb>data table notebook</a>'\n",
              "            + ' to learn more about interactive tables.';\n",
              "          element.innerHTML = '';\n",
              "          dataTable['output_type'] = 'display_data';\n",
              "          await google.colab.output.renderOutput(dataTable, element);\n",
              "          const docLink = document.createElement('div');\n",
              "          docLink.innerHTML = docLinkHtml;\n",
              "          element.appendChild(docLink);\n",
              "        }\n",
              "      </script>\n",
              "    </div>\n",
              "  </div>\n",
              "  "
            ]
          },
          "metadata": {},
          "execution_count": 174
        }
      ]
    },
    {
      "cell_type": "code",
      "source": [
        "def classDataframe(ut,tficf,k):\n",
        "  df = pd.DataFrame(columns=['Token','TF_ICF'])\n",
        "  df.Token = ut\n",
        "  df.TF_ICF = tficf \n",
        "  df = df.sort_values('TF_ICF',ascending=False).reset_index(drop=True)\n",
        "  return df.loc[:k]"
      ],
      "metadata": {
        "id": "KzFHN-g7Smgk"
      },
      "execution_count": null,
      "outputs": []
    },
    {
      "cell_type": "code",
      "source": [
        "dfc1 = classDataframe(utc1,tficfc1,100)\n",
        "dfc2 = classDataframe(utc2,tficfc2,100)\n",
        "dfc3 = classDataframe(utc3,tficfc3,100)\n",
        "dfc4 = classDataframe(utc4,tficfc4,100)\n",
        "dfc5 = classDataframe(utc5,tficfc5,100)"
      ],
      "metadata": {
        "id": "aDAyy0g6UF4C"
      },
      "execution_count": null,
      "outputs": []
    },
    {
      "cell_type": "code",
      "source": [
        ""
      ],
      "metadata": {
        "id": "WtKvEqX36OnE"
      },
      "execution_count": null,
      "outputs": []
    },
    {
      "cell_type": "code",
      "source": [
        "xtrain = [w for w in tc1 if w in list(dfc1.Token)]+[w for w in tc2 if w in list(dfc2.Token)]+[w for w in tc3 if w in list(dfc3.Token)]+[w for w in tc4 if w in list(dfc4.Token)]+[w for w in tc5 if w in list(dfc5.Token)]\n",
        "ytrain = [1]*len([w for w in tc1 if w in list(dfc1.Token)])+[2]*len([w for w in tc2 if w in list(dfc2.Token)])+[3]*len([w for w in tc3 if w in list(dfc3.Token)])+[4]*len([w for w in tc4 if w in list(dfc4.Token)])+[5]*len([w for w in tc5 if w in list(dfc5.Token)])"
      ],
      "metadata": {
        "id": "7XOBIthh3qlR"
      },
      "execution_count": null,
      "outputs": []
    },
    {
      "cell_type": "code",
      "source": [
        "def priorProb(c,ytrain):\n",
        "  return len([i for i in ytrain if i == c])/len(ytrain)"
      ],
      "metadata": {
        "id": "bROF4SPGQuxx"
      },
      "execution_count": null,
      "outputs": []
    },
    {
      "cell_type": "code",
      "source": [
        "def conditionalProb(t,c,xtrain,ytrain):\n",
        "  nemurator = len([i for i in range(ytrain) if xtrain[i]==t and ytrain[i]==c])\n",
        "  denomirator = len([w for w in xtrain if w == t])\n",
        "  return nemurator/denomirator"
      ],
      "metadata": {
        "id": "yoJycllMVKll"
      },
      "execution_count": null,
      "outputs": []
    },
    {
      "cell_type": "code",
      "source": [
        "def naiveBayes(xtrain,ytrain):\n",
        "  cl = list(np.unique(ytrain))\n",
        "  priorc = {}\n",
        "  for c in cl:\n",
        "    priorc[c] = priorProb(c,ytrain)\n",
        "  cprobtoken = {}\n",
        "  for c in cl:\n",
        "    cp = {}\n",
        "    for w in xtrain:\n",
        "      cp[w] = conditionalProb(w,c,xtrain,ytrain)  \n",
        "    cprobtoken[c] = cp   \n",
        "\n",
        "  cProbclass = {}\n",
        "  for c in cl:\n",
        "    p = 1\n",
        "    for d in cprobtoken[c]:\n",
        "      for t in d.keys():\n",
        "        if d[t] != 0:\n",
        "          p *= d[t]\n",
        "\n",
        "    cProbclass[c]=p*priorc[c]\n",
        "  return cprobtoken,cl\n",
        "\n",
        "\n",
        "\n"
      ],
      "metadata": {
        "id": "hpjG4Xl9QKwQ"
      },
      "execution_count": null,
      "outputs": []
    },
    {
      "cell_type": "code",
      "source": [
        "cprobtoken,cl = naiveBayes(xtrain,ytrain)"
      ],
      "metadata": {
        "id": "LQvE4axEdyHn"
      },
      "execution_count": null,
      "outputs": []
    },
    {
      "cell_type": "code",
      "source": [
        ""
      ],
      "metadata": {
        "id": "e03CRC1wiMsm"
      },
      "execution_count": null,
      "outputs": []
    },
    {
      "cell_type": "code",
      "source": [
        "def predict(Xtest):\n",
        "  predict_data=[]\n",
        "  tokens = []\n",
        "\n",
        "  for i in range(len(Xtest)):\n",
        "    p = []\n",
        "    for c in cl:\n",
        "      if Xtest[i] in list(cprobtoken[c].keys()):\n",
        "        p.append(cprobtoken[c][Xtest[i]])\n",
        "      else:\n",
        "        p.append(0)\n",
        "    predict_data.append(np.argmax(p)+1)\n",
        "  return predict_data"
      ],
      "metadata": {
        "id": "MtRivagU45Sf"
      },
      "execution_count": null,
      "outputs": []
    },
    {
      "cell_type": "code",
      "source": [
        ""
      ],
      "metadata": {
        "id": "IB6GtE7Jg-j-"
      },
      "execution_count": null,
      "outputs": []
    }
  ]
}